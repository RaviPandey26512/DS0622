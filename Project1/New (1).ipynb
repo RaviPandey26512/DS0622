{
  "nbformat": 4,
  "nbformat_minor": 0,
  "metadata": {
    "colab": {
      "provenance": []
    },
    "kernelspec": {
      "name": "python3",
      "display_name": "Python 3"
    },
    "language_info": {
      "name": "python"
    }
  },
  "cells": [
    {
      "cell_type": "code",
      "source": [
        "DataScience= \"hello batch ds0622, welcome to the project phase\""
      ],
      "metadata": {
        "id": "IbLZ6Jju1eob"
      },
      "execution_count": 1,
      "outputs": []
    },
    {
      "cell_type": "code",
      "source": [
        "DataScience"
      ],
      "metadata": {
        "id": "KG1OF97YBs7M",
        "outputId": "3a4abe23-e8e0-4bea-be66-662bcb2d4e67",
        "colab": {
          "base_uri": "https://localhost:8080/",
          "height": 36
        }
      },
      "execution_count": 2,
      "outputs": [
        {
          "output_type": "execute_result",
          "data": {
            "text/plain": [
              "'hello batch ds0622, welcome to the project phase'"
            ],
            "application/vnd.google.colaboratory.intrinsic+json": {
              "type": "string"
            }
          },
          "metadata": {},
          "execution_count": 2
        }
      ]
    }
  ]
}